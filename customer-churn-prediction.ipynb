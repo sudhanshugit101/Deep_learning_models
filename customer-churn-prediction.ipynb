{
 "cells": [
  {
   "cell_type": "code",
   "execution_count": 1,
   "metadata": {
    "_cell_guid": "b1076dfc-b9ad-4769-8c92-a6c4dae69d19",
    "_uuid": "8f2839f25d086af736a60e9eeb907d3b93b6e0e5",
    "execution": {
     "iopub.execute_input": "2023-11-09T03:10:41.348255Z",
     "iopub.status.busy": "2023-11-09T03:10:41.347633Z",
     "iopub.status.idle": "2023-11-09T03:10:41.815531Z",
     "shell.execute_reply": "2023-11-09T03:10:41.814252Z",
     "shell.execute_reply.started": "2023-11-09T03:10:41.348216Z"
    }
   },
   "outputs": [
    {
     "name": "stdout",
     "output_type": "stream",
     "text": [
      "/kaggle/input/credit-card-customer-churn-prediction/Churn_Modelling.csv\n"
     ]
    }
   ],
   "source": [
    "# This Python 3 environment comes with many helpful analytics libraries installed\n",
    "# It is defined by the kaggle/python Docker image: https://github.com/kaggle/docker-python\n",
    "# For example, here's several helpful packages to load\n",
    "\n",
    "import numpy as np # linear algebra\n",
    "import pandas as pd # data processing, CSV file I/O (e.g. pd.read_csv)\n",
    "\n",
    "# Input data files are available in the read-only \"../input/\" directory\n",
    "# For example, running this (by clicking run or pressing Shift+Enter) will list all files under the input directory\n",
    "\n",
    "import os\n",
    "for dirname, _, filenames in os.walk('/kaggle/input'):\n",
    "    for filename in filenames:\n",
    "        print(os.path.join(dirname, filename))\n",
    "\n",
    "# You can write up to 20GB to the current directory (/kaggle/working/) that gets preserved as output when you create a version using \"Save & Run All\" \n",
    "# You can also write temporary files to /kaggle/temp/, but they won't be saved outside of the current session"
   ]
  },
  {
   "cell_type": "code",
   "execution_count": 2,
   "metadata": {
    "execution": {
     "iopub.execute_input": "2023-11-09T03:11:00.408594Z",
     "iopub.status.busy": "2023-11-09T03:11:00.407214Z",
     "iopub.status.idle": "2023-11-09T03:11:00.460831Z",
     "shell.execute_reply": "2023-11-09T03:11:00.459652Z",
     "shell.execute_reply.started": "2023-11-09T03:11:00.408551Z"
    }
   },
   "outputs": [],
   "source": [
    "df= pd.read_csv(\"/kaggle/input/credit-card-customer-churn-prediction/Churn_Modelling.csv\")"
   ]
  },
  {
   "cell_type": "code",
   "execution_count": 4,
   "metadata": {
    "execution": {
     "iopub.execute_input": "2023-11-09T03:11:32.029689Z",
     "iopub.status.busy": "2023-11-09T03:11:32.029308Z",
     "iopub.status.idle": "2023-11-09T03:11:32.038880Z",
     "shell.execute_reply": "2023-11-09T03:11:32.037535Z",
     "shell.execute_reply.started": "2023-11-09T03:11:32.029659Z"
    }
   },
   "outputs": [
    {
     "data": {
      "text/plain": [
       "(10000, 14)"
      ]
     },
     "execution_count": 4,
     "metadata": {},
     "output_type": "execute_result"
    }
   ],
   "source": [
    "df.shape"
   ]
  },
  {
   "cell_type": "code",
   "execution_count": 5,
   "metadata": {
    "execution": {
     "iopub.execute_input": "2023-11-09T03:11:40.357103Z",
     "iopub.status.busy": "2023-11-09T03:11:40.356494Z",
     "iopub.status.idle": "2023-11-09T03:11:40.385145Z",
     "shell.execute_reply": "2023-11-09T03:11:40.384192Z",
     "shell.execute_reply.started": "2023-11-09T03:11:40.357061Z"
    }
   },
   "outputs": [
    {
     "data": {
      "text/html": [
       "<div>\n",
       "<style scoped>\n",
       "    .dataframe tbody tr th:only-of-type {\n",
       "        vertical-align: middle;\n",
       "    }\n",
       "\n",
       "    .dataframe tbody tr th {\n",
       "        vertical-align: top;\n",
       "    }\n",
       "\n",
       "    .dataframe thead th {\n",
       "        text-align: right;\n",
       "    }\n",
       "</style>\n",
       "<table border=\"1\" class=\"dataframe\">\n",
       "  <thead>\n",
       "    <tr style=\"text-align: right;\">\n",
       "      <th></th>\n",
       "      <th>RowNumber</th>\n",
       "      <th>CustomerId</th>\n",
       "      <th>Surname</th>\n",
       "      <th>CreditScore</th>\n",
       "      <th>Geography</th>\n",
       "      <th>Gender</th>\n",
       "      <th>Age</th>\n",
       "      <th>Tenure</th>\n",
       "      <th>Balance</th>\n",
       "      <th>NumOfProducts</th>\n",
       "      <th>HasCrCard</th>\n",
       "      <th>IsActiveMember</th>\n",
       "      <th>EstimatedSalary</th>\n",
       "      <th>Exited</th>\n",
       "    </tr>\n",
       "  </thead>\n",
       "  <tbody>\n",
       "    <tr>\n",
       "      <th>0</th>\n",
       "      <td>1</td>\n",
       "      <td>15634602</td>\n",
       "      <td>Hargrave</td>\n",
       "      <td>619</td>\n",
       "      <td>France</td>\n",
       "      <td>Female</td>\n",
       "      <td>42</td>\n",
       "      <td>2</td>\n",
       "      <td>0.00</td>\n",
       "      <td>1</td>\n",
       "      <td>1</td>\n",
       "      <td>1</td>\n",
       "      <td>101348.88</td>\n",
       "      <td>1</td>\n",
       "    </tr>\n",
       "    <tr>\n",
       "      <th>1</th>\n",
       "      <td>2</td>\n",
       "      <td>15647311</td>\n",
       "      <td>Hill</td>\n",
       "      <td>608</td>\n",
       "      <td>Spain</td>\n",
       "      <td>Female</td>\n",
       "      <td>41</td>\n",
       "      <td>1</td>\n",
       "      <td>83807.86</td>\n",
       "      <td>1</td>\n",
       "      <td>0</td>\n",
       "      <td>1</td>\n",
       "      <td>112542.58</td>\n",
       "      <td>0</td>\n",
       "    </tr>\n",
       "    <tr>\n",
       "      <th>2</th>\n",
       "      <td>3</td>\n",
       "      <td>15619304</td>\n",
       "      <td>Onio</td>\n",
       "      <td>502</td>\n",
       "      <td>France</td>\n",
       "      <td>Female</td>\n",
       "      <td>42</td>\n",
       "      <td>8</td>\n",
       "      <td>159660.80</td>\n",
       "      <td>3</td>\n",
       "      <td>1</td>\n",
       "      <td>0</td>\n",
       "      <td>113931.57</td>\n",
       "      <td>1</td>\n",
       "    </tr>\n",
       "    <tr>\n",
       "      <th>3</th>\n",
       "      <td>4</td>\n",
       "      <td>15701354</td>\n",
       "      <td>Boni</td>\n",
       "      <td>699</td>\n",
       "      <td>France</td>\n",
       "      <td>Female</td>\n",
       "      <td>39</td>\n",
       "      <td>1</td>\n",
       "      <td>0.00</td>\n",
       "      <td>2</td>\n",
       "      <td>0</td>\n",
       "      <td>0</td>\n",
       "      <td>93826.63</td>\n",
       "      <td>0</td>\n",
       "    </tr>\n",
       "    <tr>\n",
       "      <th>4</th>\n",
       "      <td>5</td>\n",
       "      <td>15737888</td>\n",
       "      <td>Mitchell</td>\n",
       "      <td>850</td>\n",
       "      <td>Spain</td>\n",
       "      <td>Female</td>\n",
       "      <td>43</td>\n",
       "      <td>2</td>\n",
       "      <td>125510.82</td>\n",
       "      <td>1</td>\n",
       "      <td>1</td>\n",
       "      <td>1</td>\n",
       "      <td>79084.10</td>\n",
       "      <td>0</td>\n",
       "    </tr>\n",
       "  </tbody>\n",
       "</table>\n",
       "</div>"
      ],
      "text/plain": [
       "   RowNumber  CustomerId   Surname  CreditScore Geography  Gender  Age  \\\n",
       "0          1    15634602  Hargrave          619    France  Female   42   \n",
       "1          2    15647311      Hill          608     Spain  Female   41   \n",
       "2          3    15619304      Onio          502    France  Female   42   \n",
       "3          4    15701354      Boni          699    France  Female   39   \n",
       "4          5    15737888  Mitchell          850     Spain  Female   43   \n",
       "\n",
       "   Tenure    Balance  NumOfProducts  HasCrCard  IsActiveMember  \\\n",
       "0       2       0.00              1          1               1   \n",
       "1       1   83807.86              1          0               1   \n",
       "2       8  159660.80              3          1               0   \n",
       "3       1       0.00              2          0               0   \n",
       "4       2  125510.82              1          1               1   \n",
       "\n",
       "   EstimatedSalary  Exited  \n",
       "0        101348.88       1  \n",
       "1        112542.58       0  \n",
       "2        113931.57       1  \n",
       "3         93826.63       0  \n",
       "4         79084.10       0  "
      ]
     },
     "execution_count": 5,
     "metadata": {},
     "output_type": "execute_result"
    }
   ],
   "source": [
    "df.head()"
   ]
  },
  {
   "cell_type": "code",
   "execution_count": 6,
   "metadata": {
    "execution": {
     "iopub.execute_input": "2023-11-09T03:12:49.566769Z",
     "iopub.status.busy": "2023-11-09T03:12:49.566350Z",
     "iopub.status.idle": "2023-11-09T03:12:49.598629Z",
     "shell.execute_reply": "2023-11-09T03:12:49.597368Z",
     "shell.execute_reply.started": "2023-11-09T03:12:49.566729Z"
    }
   },
   "outputs": [
    {
     "name": "stdout",
     "output_type": "stream",
     "text": [
      "<class 'pandas.core.frame.DataFrame'>\n",
      "RangeIndex: 10000 entries, 0 to 9999\n",
      "Data columns (total 14 columns):\n",
      " #   Column           Non-Null Count  Dtype  \n",
      "---  ------           --------------  -----  \n",
      " 0   RowNumber        10000 non-null  int64  \n",
      " 1   CustomerId       10000 non-null  int64  \n",
      " 2   Surname          10000 non-null  object \n",
      " 3   CreditScore      10000 non-null  int64  \n",
      " 4   Geography        10000 non-null  object \n",
      " 5   Gender           10000 non-null  object \n",
      " 6   Age              10000 non-null  int64  \n",
      " 7   Tenure           10000 non-null  int64  \n",
      " 8   Balance          10000 non-null  float64\n",
      " 9   NumOfProducts    10000 non-null  int64  \n",
      " 10  HasCrCard        10000 non-null  int64  \n",
      " 11  IsActiveMember   10000 non-null  int64  \n",
      " 12  EstimatedSalary  10000 non-null  float64\n",
      " 13  Exited           10000 non-null  int64  \n",
      "dtypes: float64(2), int64(9), object(3)\n",
      "memory usage: 1.1+ MB\n"
     ]
    }
   ],
   "source": [
    "df.info()"
   ]
  },
  {
   "cell_type": "code",
   "execution_count": 9,
   "metadata": {
    "execution": {
     "iopub.execute_input": "2023-11-09T03:13:28.193983Z",
     "iopub.status.busy": "2023-11-09T03:13:28.193239Z",
     "iopub.status.idle": "2023-11-09T03:13:28.214248Z",
     "shell.execute_reply": "2023-11-09T03:13:28.212347Z",
     "shell.execute_reply.started": "2023-11-09T03:13:28.193936Z"
    }
   },
   "outputs": [
    {
     "data": {
      "text/plain": [
       "0"
      ]
     },
     "execution_count": 9,
     "metadata": {},
     "output_type": "execute_result"
    }
   ],
   "source": [
    "df.duplicated().sum()"
   ]
  },
  {
   "cell_type": "code",
   "execution_count": 10,
   "metadata": {
    "execution": {
     "iopub.execute_input": "2023-11-09T03:13:52.201711Z",
     "iopub.status.busy": "2023-11-09T03:13:52.201336Z",
     "iopub.status.idle": "2023-11-09T03:13:52.212188Z",
     "shell.execute_reply": "2023-11-09T03:13:52.210639Z",
     "shell.execute_reply.started": "2023-11-09T03:13:52.201681Z"
    }
   },
   "outputs": [
    {
     "data": {
      "text/plain": [
       "Exited\n",
       "0    7963\n",
       "1    2037\n",
       "Name: count, dtype: int64"
      ]
     },
     "execution_count": 10,
     "metadata": {},
     "output_type": "execute_result"
    }
   ],
   "source": [
    "df[\"Exited\"].value_counts()"
   ]
  },
  {
   "cell_type": "code",
   "execution_count": 11,
   "metadata": {
    "execution": {
     "iopub.execute_input": "2023-11-09T03:14:13.822141Z",
     "iopub.status.busy": "2023-11-09T03:14:13.821726Z",
     "iopub.status.idle": "2023-11-09T03:14:13.833586Z",
     "shell.execute_reply": "2023-11-09T03:14:13.832279Z",
     "shell.execute_reply.started": "2023-11-09T03:14:13.822100Z"
    }
   },
   "outputs": [
    {
     "data": {
      "text/plain": [
       "Geography\n",
       "France     5014\n",
       "Germany    2509\n",
       "Spain      2477\n",
       "Name: count, dtype: int64"
      ]
     },
     "execution_count": 11,
     "metadata": {},
     "output_type": "execute_result"
    }
   ],
   "source": [
    "df['Geography'].value_counts()"
   ]
  },
  {
   "cell_type": "code",
   "execution_count": 12,
   "metadata": {
    "execution": {
     "iopub.execute_input": "2023-11-09T03:14:29.177540Z",
     "iopub.status.busy": "2023-11-09T03:14:29.177011Z",
     "iopub.status.idle": "2023-11-09T03:14:29.190659Z",
     "shell.execute_reply": "2023-11-09T03:14:29.189095Z",
     "shell.execute_reply.started": "2023-11-09T03:14:29.177492Z"
    }
   },
   "outputs": [
    {
     "data": {
      "text/plain": [
       "Gender\n",
       "Male      5457\n",
       "Female    4543\n",
       "Name: count, dtype: int64"
      ]
     },
     "execution_count": 12,
     "metadata": {},
     "output_type": "execute_result"
    }
   ],
   "source": [
    "df['Gender'].value_counts()"
   ]
  },
  {
   "cell_type": "code",
   "execution_count": 14,
   "metadata": {
    "execution": {
     "iopub.execute_input": "2023-11-09T03:15:29.112309Z",
     "iopub.status.busy": "2023-11-09T03:15:29.111872Z",
     "iopub.status.idle": "2023-11-09T03:15:29.122434Z",
     "shell.execute_reply": "2023-11-09T03:15:29.121314Z",
     "shell.execute_reply.started": "2023-11-09T03:15:29.112276Z"
    }
   },
   "outputs": [],
   "source": [
    "df.drop(columns=['RowNumber', 'CustomerId', 'Surname'], inplace=True)"
   ]
  },
  {
   "cell_type": "code",
   "execution_count": 15,
   "metadata": {
    "execution": {
     "iopub.execute_input": "2023-11-09T03:15:35.306974Z",
     "iopub.status.busy": "2023-11-09T03:15:35.306583Z",
     "iopub.status.idle": "2023-11-09T03:15:35.325486Z",
     "shell.execute_reply": "2023-11-09T03:15:35.324670Z",
     "shell.execute_reply.started": "2023-11-09T03:15:35.306942Z"
    }
   },
   "outputs": [
    {
     "data": {
      "text/html": [
       "<div>\n",
       "<style scoped>\n",
       "    .dataframe tbody tr th:only-of-type {\n",
       "        vertical-align: middle;\n",
       "    }\n",
       "\n",
       "    .dataframe tbody tr th {\n",
       "        vertical-align: top;\n",
       "    }\n",
       "\n",
       "    .dataframe thead th {\n",
       "        text-align: right;\n",
       "    }\n",
       "</style>\n",
       "<table border=\"1\" class=\"dataframe\">\n",
       "  <thead>\n",
       "    <tr style=\"text-align: right;\">\n",
       "      <th></th>\n",
       "      <th>CreditScore</th>\n",
       "      <th>Geography</th>\n",
       "      <th>Gender</th>\n",
       "      <th>Age</th>\n",
       "      <th>Tenure</th>\n",
       "      <th>Balance</th>\n",
       "      <th>NumOfProducts</th>\n",
       "      <th>HasCrCard</th>\n",
       "      <th>IsActiveMember</th>\n",
       "      <th>EstimatedSalary</th>\n",
       "      <th>Exited</th>\n",
       "    </tr>\n",
       "  </thead>\n",
       "  <tbody>\n",
       "    <tr>\n",
       "      <th>0</th>\n",
       "      <td>619</td>\n",
       "      <td>France</td>\n",
       "      <td>Female</td>\n",
       "      <td>42</td>\n",
       "      <td>2</td>\n",
       "      <td>0.00</td>\n",
       "      <td>1</td>\n",
       "      <td>1</td>\n",
       "      <td>1</td>\n",
       "      <td>101348.88</td>\n",
       "      <td>1</td>\n",
       "    </tr>\n",
       "    <tr>\n",
       "      <th>1</th>\n",
       "      <td>608</td>\n",
       "      <td>Spain</td>\n",
       "      <td>Female</td>\n",
       "      <td>41</td>\n",
       "      <td>1</td>\n",
       "      <td>83807.86</td>\n",
       "      <td>1</td>\n",
       "      <td>0</td>\n",
       "      <td>1</td>\n",
       "      <td>112542.58</td>\n",
       "      <td>0</td>\n",
       "    </tr>\n",
       "    <tr>\n",
       "      <th>2</th>\n",
       "      <td>502</td>\n",
       "      <td>France</td>\n",
       "      <td>Female</td>\n",
       "      <td>42</td>\n",
       "      <td>8</td>\n",
       "      <td>159660.80</td>\n",
       "      <td>3</td>\n",
       "      <td>1</td>\n",
       "      <td>0</td>\n",
       "      <td>113931.57</td>\n",
       "      <td>1</td>\n",
       "    </tr>\n",
       "    <tr>\n",
       "      <th>3</th>\n",
       "      <td>699</td>\n",
       "      <td>France</td>\n",
       "      <td>Female</td>\n",
       "      <td>39</td>\n",
       "      <td>1</td>\n",
       "      <td>0.00</td>\n",
       "      <td>2</td>\n",
       "      <td>0</td>\n",
       "      <td>0</td>\n",
       "      <td>93826.63</td>\n",
       "      <td>0</td>\n",
       "    </tr>\n",
       "    <tr>\n",
       "      <th>4</th>\n",
       "      <td>850</td>\n",
       "      <td>Spain</td>\n",
       "      <td>Female</td>\n",
       "      <td>43</td>\n",
       "      <td>2</td>\n",
       "      <td>125510.82</td>\n",
       "      <td>1</td>\n",
       "      <td>1</td>\n",
       "      <td>1</td>\n",
       "      <td>79084.10</td>\n",
       "      <td>0</td>\n",
       "    </tr>\n",
       "    <tr>\n",
       "      <th>5</th>\n",
       "      <td>645</td>\n",
       "      <td>Spain</td>\n",
       "      <td>Male</td>\n",
       "      <td>44</td>\n",
       "      <td>8</td>\n",
       "      <td>113755.78</td>\n",
       "      <td>2</td>\n",
       "      <td>1</td>\n",
       "      <td>0</td>\n",
       "      <td>149756.71</td>\n",
       "      <td>1</td>\n",
       "    </tr>\n",
       "    <tr>\n",
       "      <th>6</th>\n",
       "      <td>822</td>\n",
       "      <td>France</td>\n",
       "      <td>Male</td>\n",
       "      <td>50</td>\n",
       "      <td>7</td>\n",
       "      <td>0.00</td>\n",
       "      <td>2</td>\n",
       "      <td>1</td>\n",
       "      <td>1</td>\n",
       "      <td>10062.80</td>\n",
       "      <td>0</td>\n",
       "    </tr>\n",
       "    <tr>\n",
       "      <th>7</th>\n",
       "      <td>376</td>\n",
       "      <td>Germany</td>\n",
       "      <td>Female</td>\n",
       "      <td>29</td>\n",
       "      <td>4</td>\n",
       "      <td>115046.74</td>\n",
       "      <td>4</td>\n",
       "      <td>1</td>\n",
       "      <td>0</td>\n",
       "      <td>119346.88</td>\n",
       "      <td>1</td>\n",
       "    </tr>\n",
       "    <tr>\n",
       "      <th>8</th>\n",
       "      <td>501</td>\n",
       "      <td>France</td>\n",
       "      <td>Male</td>\n",
       "      <td>44</td>\n",
       "      <td>4</td>\n",
       "      <td>142051.07</td>\n",
       "      <td>2</td>\n",
       "      <td>0</td>\n",
       "      <td>1</td>\n",
       "      <td>74940.50</td>\n",
       "      <td>0</td>\n",
       "    </tr>\n",
       "    <tr>\n",
       "      <th>9</th>\n",
       "      <td>684</td>\n",
       "      <td>France</td>\n",
       "      <td>Male</td>\n",
       "      <td>27</td>\n",
       "      <td>2</td>\n",
       "      <td>134603.88</td>\n",
       "      <td>1</td>\n",
       "      <td>1</td>\n",
       "      <td>1</td>\n",
       "      <td>71725.73</td>\n",
       "      <td>0</td>\n",
       "    </tr>\n",
       "  </tbody>\n",
       "</table>\n",
       "</div>"
      ],
      "text/plain": [
       "   CreditScore Geography  Gender  Age  Tenure    Balance  NumOfProducts  \\\n",
       "0          619    France  Female   42       2       0.00              1   \n",
       "1          608     Spain  Female   41       1   83807.86              1   \n",
       "2          502    France  Female   42       8  159660.80              3   \n",
       "3          699    France  Female   39       1       0.00              2   \n",
       "4          850     Spain  Female   43       2  125510.82              1   \n",
       "5          645     Spain    Male   44       8  113755.78              2   \n",
       "6          822    France    Male   50       7       0.00              2   \n",
       "7          376   Germany  Female   29       4  115046.74              4   \n",
       "8          501    France    Male   44       4  142051.07              2   \n",
       "9          684    France    Male   27       2  134603.88              1   \n",
       "\n",
       "   HasCrCard  IsActiveMember  EstimatedSalary  Exited  \n",
       "0          1               1        101348.88       1  \n",
       "1          0               1        112542.58       0  \n",
       "2          1               0        113931.57       1  \n",
       "3          0               0         93826.63       0  \n",
       "4          1               1         79084.10       0  \n",
       "5          1               0        149756.71       1  \n",
       "6          1               1         10062.80       0  \n",
       "7          1               0        119346.88       1  \n",
       "8          0               1         74940.50       0  \n",
       "9          1               1         71725.73       0  "
      ]
     },
     "execution_count": 15,
     "metadata": {},
     "output_type": "execute_result"
    }
   ],
   "source": [
    "df.head(10)"
   ]
  },
  {
   "cell_type": "code",
   "execution_count": 17,
   "metadata": {
    "execution": {
     "iopub.execute_input": "2023-11-09T03:18:13.452976Z",
     "iopub.status.busy": "2023-11-09T03:18:13.451770Z",
     "iopub.status.idle": "2023-11-09T03:18:13.465450Z",
     "shell.execute_reply": "2023-11-09T03:18:13.464588Z",
     "shell.execute_reply.started": "2023-11-09T03:18:13.452936Z"
    }
   },
   "outputs": [],
   "source": [
    "df=pd.get_dummies(df, columns=['Geography', 'Gender'], drop_first=True)"
   ]
  },
  {
   "cell_type": "code",
   "execution_count": 21,
   "metadata": {
    "execution": {
     "iopub.execute_input": "2023-11-09T03:20:57.112117Z",
     "iopub.status.busy": "2023-11-09T03:20:57.111722Z",
     "iopub.status.idle": "2023-11-09T03:20:57.119160Z",
     "shell.execute_reply": "2023-11-09T03:20:57.117788Z",
     "shell.execute_reply.started": "2023-11-09T03:20:57.112086Z"
    }
   },
   "outputs": [],
   "source": [
    "X=df.drop(columns='Exited')\n",
    "y=df['Exited']"
   ]
  },
  {
   "cell_type": "code",
   "execution_count": 22,
   "metadata": {
    "execution": {
     "iopub.execute_input": "2023-11-09T03:21:03.106963Z",
     "iopub.status.busy": "2023-11-09T03:21:03.106499Z",
     "iopub.status.idle": "2023-11-09T03:21:03.116977Z",
     "shell.execute_reply": "2023-11-09T03:21:03.115605Z",
     "shell.execute_reply.started": "2023-11-09T03:21:03.106932Z"
    }
   },
   "outputs": [],
   "source": [
    "from sklearn.model_selection import train_test_split\n",
    "X_train, X_test, y_train, y_test=train_test_split(X, y, test_size=0.2, random_state=42)"
   ]
  },
  {
   "cell_type": "code",
   "execution_count": 26,
   "metadata": {
    "execution": {
     "iopub.execute_input": "2023-11-09T03:23:19.017392Z",
     "iopub.status.busy": "2023-11-09T03:23:19.016928Z",
     "iopub.status.idle": "2023-11-09T03:23:19.039808Z",
     "shell.execute_reply": "2023-11-09T03:23:19.038577Z",
     "shell.execute_reply.started": "2023-11-09T03:23:19.017357Z"
    }
   },
   "outputs": [],
   "source": [
    "from sklearn.preprocessing import StandardScaler\n",
    "scaler=StandardScaler()\n",
    "X_train_scaled=scaler.fit_transform(X_train)\n",
    "X_test_scaled=scaler.fit_transform(X_test)"
   ]
  },
  {
   "cell_type": "code",
   "execution_count": 27,
   "metadata": {
    "execution": {
     "iopub.execute_input": "2023-11-09T03:25:21.167555Z",
     "iopub.status.busy": "2023-11-09T03:25:21.167130Z",
     "iopub.status.idle": "2023-11-09T03:25:21.173491Z",
     "shell.execute_reply": "2023-11-09T03:25:21.172343Z",
     "shell.execute_reply.started": "2023-11-09T03:25:21.167521Z"
    }
   },
   "outputs": [],
   "source": [
    "import tensorflow\n",
    "from tensorflow import keras\n",
    "from tensorflow.keras import Sequential\n",
    "from tensorflow.keras.layers import Dense"
   ]
  },
  {
   "cell_type": "code",
   "execution_count": 63,
   "metadata": {
    "execution": {
     "iopub.execute_input": "2023-11-09T03:47:50.705142Z",
     "iopub.status.busy": "2023-11-09T03:47:50.704586Z",
     "iopub.status.idle": "2023-11-09T03:47:50.783525Z",
     "shell.execute_reply": "2023-11-09T03:47:50.782063Z",
     "shell.execute_reply.started": "2023-11-09T03:47:50.705101Z"
    }
   },
   "outputs": [],
   "source": [
    "model=Sequential()\n",
    "\n",
    "model.add(Dense(5, activation='relu', input_dim=11))\n",
    "model.add(Dense(5, activation='relu'))\n",
    "model.add(Dense(1, activation='sigmoid'))"
   ]
  },
  {
   "cell_type": "code",
   "execution_count": 64,
   "metadata": {
    "execution": {
     "iopub.execute_input": "2023-11-09T03:47:52.459477Z",
     "iopub.status.busy": "2023-11-09T03:47:52.458974Z",
     "iopub.status.idle": "2023-11-09T03:47:52.487846Z",
     "shell.execute_reply": "2023-11-09T03:47:52.486307Z",
     "shell.execute_reply.started": "2023-11-09T03:47:52.459440Z"
    }
   },
   "outputs": [
    {
     "name": "stdout",
     "output_type": "stream",
     "text": [
      "Model: \"sequential_3\"\n",
      "_________________________________________________________________\n",
      " Layer (type)                Output Shape              Param #   \n",
      "=================================================================\n",
      " dense_5 (Dense)             (None, 5)                 60        \n",
      "                                                                 \n",
      " dense_6 (Dense)             (None, 5)                 30        \n",
      "                                                                 \n",
      " dense_7 (Dense)             (None, 1)                 6         \n",
      "                                                                 \n",
      "=================================================================\n",
      "Total params: 96\n",
      "Trainable params: 96\n",
      "Non-trainable params: 0\n",
      "_________________________________________________________________\n"
     ]
    }
   ],
   "source": [
    "model.summary()"
   ]
  },
  {
   "cell_type": "code",
   "execution_count": 65,
   "metadata": {
    "execution": {
     "iopub.execute_input": "2023-11-09T03:47:53.444582Z",
     "iopub.status.busy": "2023-11-09T03:47:53.444107Z",
     "iopub.status.idle": "2023-11-09T03:47:53.465081Z",
     "shell.execute_reply": "2023-11-09T03:47:53.463080Z",
     "shell.execute_reply.started": "2023-11-09T03:47:53.444546Z"
    }
   },
   "outputs": [],
   "source": [
    "model.compile(loss='binary_crossentropy', optimizer='Adam', metrics=['accuracy'])"
   ]
  },
  {
   "cell_type": "code",
   "execution_count": 66,
   "metadata": {
    "execution": {
     "iopub.execute_input": "2023-11-09T03:47:54.629450Z",
     "iopub.status.busy": "2023-11-09T03:47:54.628976Z",
     "iopub.status.idle": "2023-11-09T03:48:14.484623Z",
     "shell.execute_reply": "2023-11-09T03:48:14.483288Z",
     "shell.execute_reply.started": "2023-11-09T03:47:54.629416Z"
    }
   },
   "outputs": [
    {
     "name": "stdout",
     "output_type": "stream",
     "text": [
      "Epoch 1/20\n",
      "200/200 [==============================] - 2s 5ms/step - loss: 0.6032 - accuracy: 0.7102 - val_loss: 0.4869 - val_accuracy: 0.8006\n",
      "Epoch 2/20\n",
      "200/200 [==============================] - 1s 4ms/step - loss: 0.4744 - accuracy: 0.7953 - val_loss: 0.4563 - val_accuracy: 0.8006\n",
      "Epoch 3/20\n",
      "200/200 [==============================] - 1s 4ms/step - loss: 0.4568 - accuracy: 0.7958 - val_loss: 0.4447 - val_accuracy: 0.8025\n",
      "Epoch 4/20\n",
      "200/200 [==============================] - 1s 3ms/step - loss: 0.4462 - accuracy: 0.8012 - val_loss: 0.4365 - val_accuracy: 0.8025\n",
      "Epoch 5/20\n",
      "200/200 [==============================] - 1s 4ms/step - loss: 0.4390 - accuracy: 0.8041 - val_loss: 0.4306 - val_accuracy: 0.8131\n",
      "Epoch 6/20\n",
      "200/200 [==============================] - 1s 3ms/step - loss: 0.4339 - accuracy: 0.8114 - val_loss: 0.4259 - val_accuracy: 0.8194\n",
      "Epoch 7/20\n",
      "200/200 [==============================] - 1s 4ms/step - loss: 0.4292 - accuracy: 0.8169 - val_loss: 0.4216 - val_accuracy: 0.8225\n",
      "Epoch 8/20\n",
      "200/200 [==============================] - 1s 5ms/step - loss: 0.4250 - accuracy: 0.8214 - val_loss: 0.4177 - val_accuracy: 0.8281\n",
      "Epoch 9/20\n",
      "200/200 [==============================] - 1s 6ms/step - loss: 0.4210 - accuracy: 0.8252 - val_loss: 0.4141 - val_accuracy: 0.8288\n",
      "Epoch 10/20\n",
      "200/200 [==============================] - 1s 5ms/step - loss: 0.4175 - accuracy: 0.8280 - val_loss: 0.4109 - val_accuracy: 0.8294\n",
      "Epoch 11/20\n",
      "200/200 [==============================] - 1s 5ms/step - loss: 0.4139 - accuracy: 0.8311 - val_loss: 0.4078 - val_accuracy: 0.8325\n",
      "Epoch 12/20\n",
      "200/200 [==============================] - 1s 5ms/step - loss: 0.4105 - accuracy: 0.8319 - val_loss: 0.4042 - val_accuracy: 0.8331\n",
      "Epoch 13/20\n",
      "200/200 [==============================] - 1s 6ms/step - loss: 0.4065 - accuracy: 0.8355 - val_loss: 0.4014 - val_accuracy: 0.8313\n",
      "Epoch 14/20\n",
      "200/200 [==============================] - 1s 6ms/step - loss: 0.4022 - accuracy: 0.8364 - val_loss: 0.3974 - val_accuracy: 0.8319\n",
      "Epoch 15/20\n",
      "200/200 [==============================] - 1s 6ms/step - loss: 0.3974 - accuracy: 0.8373 - val_loss: 0.3924 - val_accuracy: 0.8375\n",
      "Epoch 16/20\n",
      "200/200 [==============================] - 1s 5ms/step - loss: 0.3920 - accuracy: 0.8400 - val_loss: 0.3877 - val_accuracy: 0.8388\n",
      "Epoch 17/20\n",
      "200/200 [==============================] - 1s 5ms/step - loss: 0.3868 - accuracy: 0.8430 - val_loss: 0.3814 - val_accuracy: 0.8400\n",
      "Epoch 18/20\n",
      "200/200 [==============================] - 1s 5ms/step - loss: 0.3807 - accuracy: 0.8447 - val_loss: 0.3756 - val_accuracy: 0.8438\n",
      "Epoch 19/20\n",
      "200/200 [==============================] - 1s 5ms/step - loss: 0.3743 - accuracy: 0.8477 - val_loss: 0.3702 - val_accuracy: 0.8475\n",
      "Epoch 20/20\n",
      "200/200 [==============================] - 1s 4ms/step - loss: 0.3682 - accuracy: 0.8519 - val_loss: 0.3652 - val_accuracy: 0.8494\n"
     ]
    }
   ],
   "source": [
    "history=model.fit(X_train_scaled, y_train, epochs=20, validation_split=0.2)"
   ]
  },
  {
   "cell_type": "code",
   "execution_count": 67,
   "metadata": {
    "execution": {
     "iopub.execute_input": "2023-11-09T03:48:16.840802Z",
     "iopub.status.busy": "2023-11-09T03:48:16.840253Z",
     "iopub.status.idle": "2023-11-09T03:48:16.864870Z",
     "shell.execute_reply": "2023-11-09T03:48:16.862090Z",
     "shell.execute_reply.started": "2023-11-09T03:48:16.840762Z"
    }
   },
   "outputs": [
    {
     "data": {
      "text/plain": [
       "[array([[ 0.19708818,  0.05799828,  0.08098604,  0.06989025, -0.3677775 ],\n",
       "        [-0.73599946,  0.702682  ,  0.55818015,  0.19694415, -0.78804815],\n",
       "        [-0.00564698, -0.1983766 ,  0.07463365,  0.03665664, -0.12837203],\n",
       "        [-0.18458585,  0.11793953, -0.07825417, -0.35210052, -0.29393655],\n",
       "        [-0.12790732,  0.7523504 , -0.23885833, -1.0500367 ,  0.01032053],\n",
       "        [-0.03745298,  0.02045175,  0.13596694, -0.01400071, -0.09409133],\n",
       "        [-0.36509234, -0.2980133 ,  0.8881917 , -0.25387383,  0.6955382 ],\n",
       "        [ 0.06810542,  0.13400693, -0.00423084,  0.00566008, -0.05345622],\n",
       "        [-0.15028846, -0.1305419 , -0.2965075 ,  0.183194  , -0.1380051 ],\n",
       "        [-0.06864753, -0.06339066,  0.17453572,  0.0107063 , -0.4797584 ],\n",
       "        [ 0.02153571, -0.13358559,  0.10432003, -0.04782855,  0.5352965 ]],\n",
       "       dtype=float32),\n",
       " array([ 0.9718466 , -0.08489277, -0.08143349,  0.08423766,  0.4313375 ],\n",
       "       dtype=float32)]"
      ]
     },
     "execution_count": 67,
     "metadata": {},
     "output_type": "execute_result"
    }
   ],
   "source": [
    "model.layers[0].get_weights()"
   ]
  },
  {
   "cell_type": "code",
   "execution_count": 68,
   "metadata": {
    "execution": {
     "iopub.execute_input": "2023-11-09T03:48:17.826365Z",
     "iopub.status.busy": "2023-11-09T03:48:17.825484Z",
     "iopub.status.idle": "2023-11-09T03:48:18.233753Z",
     "shell.execute_reply": "2023-11-09T03:48:18.231770Z",
     "shell.execute_reply.started": "2023-11-09T03:48:17.826319Z"
    }
   },
   "outputs": [
    {
     "name": "stdout",
     "output_type": "stream",
     "text": [
      "63/63 [==============================] - 0s 3ms/step\n"
     ]
    }
   ],
   "source": [
    "y_log=model.predict(X_test_scaled)"
   ]
  },
  {
   "cell_type": "code",
   "execution_count": 69,
   "metadata": {
    "execution": {
     "iopub.execute_input": "2023-11-09T03:48:18.959844Z",
     "iopub.status.busy": "2023-11-09T03:48:18.959331Z",
     "iopub.status.idle": "2023-11-09T03:48:18.968561Z",
     "shell.execute_reply": "2023-11-09T03:48:18.967129Z",
     "shell.execute_reply.started": "2023-11-09T03:48:18.959805Z"
    }
   },
   "outputs": [],
   "source": [
    "y_pred=np.where(y_log>0.5, 1, 0)"
   ]
  },
  {
   "cell_type": "code",
   "execution_count": 70,
   "metadata": {
    "execution": {
     "iopub.execute_input": "2023-11-09T03:48:20.265059Z",
     "iopub.status.busy": "2023-11-09T03:48:20.264538Z",
     "iopub.status.idle": "2023-11-09T03:48:20.282710Z",
     "shell.execute_reply": "2023-11-09T03:48:20.279163Z",
     "shell.execute_reply.started": "2023-11-09T03:48:20.265019Z"
    }
   },
   "outputs": [
    {
     "data": {
      "text/plain": [
       "0.8525"
      ]
     },
     "execution_count": 70,
     "metadata": {},
     "output_type": "execute_result"
    }
   ],
   "source": [
    "from sklearn.metrics import accuracy_score\n",
    "accuracy_score(y_test, y_pred)"
   ]
  },
  {
   "cell_type": "code",
   "execution_count": 71,
   "metadata": {
    "execution": {
     "iopub.execute_input": "2023-11-09T03:48:21.345139Z",
     "iopub.status.busy": "2023-11-09T03:48:21.344187Z",
     "iopub.status.idle": "2023-11-09T03:48:21.357057Z",
     "shell.execute_reply": "2023-11-09T03:48:21.354151Z",
     "shell.execute_reply.started": "2023-11-09T03:48:21.345095Z"
    }
   },
   "outputs": [
    {
     "data": {
      "text/plain": [
       "{'loss': [0.6032106876373291,\n",
       "  0.4744437038898468,\n",
       "  0.45679545402526855,\n",
       "  0.44620829820632935,\n",
       "  0.4390128254890442,\n",
       "  0.4339160621166229,\n",
       "  0.429220050573349,\n",
       "  0.4250376224517822,\n",
       "  0.4210146963596344,\n",
       "  0.4174821078777313,\n",
       "  0.4138754904270172,\n",
       "  0.4104730188846588,\n",
       "  0.4065314531326294,\n",
       "  0.40223342180252075,\n",
       "  0.3974381685256958,\n",
       "  0.39197760820388794,\n",
       "  0.3868228793144226,\n",
       "  0.38070353865623474,\n",
       "  0.37432804703712463,\n",
       "  0.3682463467121124],\n",
       " 'accuracy': [0.710156261920929,\n",
       "  0.7953125238418579,\n",
       "  0.7957812547683716,\n",
       "  0.8012499809265137,\n",
       "  0.8040624856948853,\n",
       "  0.8114062547683716,\n",
       "  0.8168749809265137,\n",
       "  0.8214062452316284,\n",
       "  0.8251562714576721,\n",
       "  0.8279687762260437,\n",
       "  0.8310937285423279,\n",
       "  0.8318750262260437,\n",
       "  0.8354687690734863,\n",
       "  0.8364062309265137,\n",
       "  0.8373437523841858,\n",
       "  0.8399999737739563,\n",
       "  0.842968761920929,\n",
       "  0.8446875214576721,\n",
       "  0.84765625,\n",
       "  0.8518750071525574],\n",
       " 'val_loss': [0.48688724637031555,\n",
       "  0.45632269978523254,\n",
       "  0.44471636414527893,\n",
       "  0.4365256130695343,\n",
       "  0.4305803179740906,\n",
       "  0.4259006977081299,\n",
       "  0.421573668718338,\n",
       "  0.4177096486091614,\n",
       "  0.41413629055023193,\n",
       "  0.41091009974479675,\n",
       "  0.4077942669391632,\n",
       "  0.4042152762413025,\n",
       "  0.40140074491500854,\n",
       "  0.39738762378692627,\n",
       "  0.3923855125904083,\n",
       "  0.38770413398742676,\n",
       "  0.38142725825309753,\n",
       "  0.37558114528656006,\n",
       "  0.3701930344104767,\n",
       "  0.3652445077896118],\n",
       " 'val_accuracy': [0.8006250262260437,\n",
       "  0.8006250262260437,\n",
       "  0.8025000095367432,\n",
       "  0.8025000095367432,\n",
       "  0.8131250143051147,\n",
       "  0.8193749785423279,\n",
       "  0.8224999904632568,\n",
       "  0.828125,\n",
       "  0.8287500143051147,\n",
       "  0.8293750286102295,\n",
       "  0.8324999809265137,\n",
       "  0.8331249952316284,\n",
       "  0.831250011920929,\n",
       "  0.8318750262260437,\n",
       "  0.8374999761581421,\n",
       "  0.8387500047683716,\n",
       "  0.8399999737739563,\n",
       "  0.84375,\n",
       "  0.8475000262260437,\n",
       "  0.8493750095367432]}"
      ]
     },
     "execution_count": 71,
     "metadata": {},
     "output_type": "execute_result"
    }
   ],
   "source": [
    "history.history"
   ]
  },
  {
   "cell_type": "code",
   "execution_count": 72,
   "metadata": {
    "execution": {
     "iopub.execute_input": "2023-11-09T03:48:22.265951Z",
     "iopub.status.busy": "2023-11-09T03:48:22.265432Z",
     "iopub.status.idle": "2023-11-09T03:48:22.275934Z",
     "shell.execute_reply": "2023-11-09T03:48:22.271054Z",
     "shell.execute_reply.started": "2023-11-09T03:48:22.265912Z"
    }
   },
   "outputs": [],
   "source": [
    "import matplotlib.pyplot as plt"
   ]
  },
  {
   "cell_type": "code",
   "execution_count": 73,
   "metadata": {
    "execution": {
     "iopub.execute_input": "2023-11-09T03:48:23.444815Z",
     "iopub.status.busy": "2023-11-09T03:48:23.444260Z",
     "iopub.status.idle": "2023-11-09T03:48:23.845561Z",
     "shell.execute_reply": "2023-11-09T03:48:23.843147Z",
     "shell.execute_reply.started": "2023-11-09T03:48:23.444768Z"
    }
   },
   "outputs": [
    {
     "data": {
      "text/plain": [
       "[<matplotlib.lines.Line2D at 0x7fde525ea560>]"
      ]
     },
     "execution_count": 73,
     "metadata": {},
     "output_type": "execute_result"
    },
    {
     "data": {
      "image/png": "[encoded data removed]",
      "text/plain": [
       "<Figure size 640x480 with 1 Axes>"
      ]
     },
     "metadata": {},
     "output_type": "display_data"
    }
   ],
   "source": [
    "plt.plot(history.history['loss'])\n",
    "plt.plot(history.history['val_loss'])"
   ]
  },
  {
   "cell_type": "code",
   "execution_count": 74,
   "metadata": {
    "execution": {
     "iopub.execute_input": "2023-11-09T03:48:52.027770Z",
     "iopub.status.busy": "2023-11-09T03:48:52.026327Z",
     "iopub.status.idle": "2023-11-09T03:48:52.386385Z",
     "shell.execute_reply": "2023-11-09T03:48:52.385226Z",
     "shell.execute_reply.started": "2023-11-09T03:48:52.027679Z"
    }
   },
   "outputs": [
    {
     "data": {
      "text/plain": [
       "[<matplotlib.lines.Line2D at 0x7fde5241c400>]"
      ]
     },
     "execution_count": 74,
     "metadata": {},
     "output_type": "execute_result"
    },
    {
     "data": {
      "image/png": "[encoded data removed]",
      "text/plain": [
       "<Figure size 640x480 with 1 Axes>"
      ]
     },
     "metadata": {},
     "output_type": "display_data"
    }
   ],
   "source": [
    "plt.plot(history.history['accuracy'])\n",
    "plt.plot(history.history['val_accuracy'])"
   ]
  },
  {
   "cell_type": "code",
   "execution_count": null,
   "metadata": {},
   "outputs": [],
   "source": []
  }
 ],
 "metadata": {
  "kernelspec": {
   "display_name": "Python 3 (ipykernel)",
   "language": "python",
   "name": "python3"
  },
  "language_info": {
   "codemirror_mode": {
    "name": "ipython",
    "version": 3
   },
   "file_extension": ".py",
   "mimetype": "text/x-python",
   "name": "python",
   "nbconvert_exporter": "python",
   "pygments_lexer": "ipython3",
   "version": "3.10.9"
  }
 },
 "nbformat": 4,
 "nbformat_minor": 4
}
